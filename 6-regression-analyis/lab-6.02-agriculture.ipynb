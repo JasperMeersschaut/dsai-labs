{
  "cells": [
    {
      "cell_type": "markdown",
      "metadata": {
        "id": "zY97xAN4a-J8"
      },
      "source": [
        "# Lab 6.02 - Regression analysis"
      ]
    },
    {
      "cell_type": "code",
      "execution_count": 1,
      "metadata": {
        "id": "yH8_ZwQgrIGb"
      },
      "outputs": [],
      "source": [
        "# Package imports\n",
        "import numpy as np                                  # \"Scientific computing\"\n",
        "import scipy.stats as stats                         # Statistical tests\n",
        "\n",
        "import pandas as pd                                 # Dataframe\n",
        "import matplotlib.pyplot as plt                     # Basic visualisation\n",
        "from statsmodels.graphics.mosaicplot import mosaic  # Mosaic plot\n",
        "import seaborn as sns                               # Advanced dataviz\n",
        "from sklearn.linear_model import LinearRegression"
      ]
    },
    {
      "cell_type": "markdown",
      "metadata": {
        "id": "_dV0yWc00mRa"
      },
      "source": [
        "## Exercise 2: Flemish agricultural and horticultural businesses\n",
        "\n",
        "1. Use the dataset agriculture flanders.csv. The file contains data about agricultural and horticultural businesses in Flanders\n",
        "\n",
        "    Source: Departement Landbouw en Visserij op basis van StatBel"
      ]
    },
    {
      "cell_type": "code",
      "execution_count": 3,
      "metadata": {
        "colab": {
          "base_uri": "https://localhost:8080/",
          "height": 206
        },
        "id": "4knRPvnY62vR",
        "outputId": "b646e058-b881-46fd-9cc4-9df17fa5387b"
      },
      "outputs": [
        {
          "data": {
            "text/html": [
              "<div>\n",
              "<style scoped>\n",
              "    .dataframe tbody tr th:only-of-type {\n",
              "        vertical-align: middle;\n",
              "    }\n",
              "\n",
              "    .dataframe tbody tr th {\n",
              "        vertical-align: top;\n",
              "    }\n",
              "\n",
              "    .dataframe thead th {\n",
              "        text-align: right;\n",
              "    }\n",
              "</style>\n",
              "<table border=\"1\" class=\"dataframe\">\n",
              "  <thead>\n",
              "    <tr style=\"text-align: right;\">\n",
              "      <th></th>\n",
              "      <th>year</th>\n",
              "      <th>number_of_farms</th>\n",
              "      <th>average_area_per_farm_(ha)</th>\n",
              "    </tr>\n",
              "  </thead>\n",
              "  <tbody>\n",
              "    <tr>\n",
              "      <th>0</th>\n",
              "      <td>1980</td>\n",
              "      <td>75706</td>\n",
              "      <td>8.38</td>\n",
              "    </tr>\n",
              "    <tr>\n",
              "      <th>1</th>\n",
              "      <td>1981</td>\n",
              "      <td>73292</td>\n",
              "      <td>8.58</td>\n",
              "    </tr>\n",
              "    <tr>\n",
              "      <th>2</th>\n",
              "      <td>1982</td>\n",
              "      <td>71255</td>\n",
              "      <td>8.79</td>\n",
              "    </tr>\n",
              "    <tr>\n",
              "      <th>3</th>\n",
              "      <td>1983</td>\n",
              "      <td>69807</td>\n",
              "      <td>8.94</td>\n",
              "    </tr>\n",
              "    <tr>\n",
              "      <th>4</th>\n",
              "      <td>1984</td>\n",
              "      <td>68083</td>\n",
              "      <td>9.15</td>\n",
              "    </tr>\n",
              "  </tbody>\n",
              "</table>\n",
              "</div>"
            ],
            "text/plain": [
              "   year  number_of_farms  average_area_per_farm_(ha)\n",
              "0  1980            75706                        8.38\n",
              "1  1981            73292                        8.58\n",
              "2  1982            71255                        8.79\n",
              "3  1983            69807                        8.94\n",
              "4  1984            68083                        9.15"
            ]
          },
          "execution_count": 3,
          "metadata": {},
          "output_type": "execute_result"
        }
      ],
      "source": [
        "farms = pd.read_csv('https://raw.githubusercontent.com/HoGentTIN/dsai-labs/main/data/agriculture%20flanders.csv', delimiter = \";\", decimal=',')\n",
        "# Show the first few records of the Data Frame\n",
        "farms.head()"
      ]
    },
    {
      "cell_type": "markdown",
      "metadata": {
        "id": "rSbMbIG2539K"
      },
      "source": [
        "2. What are the datatypes for each of the columns."
      ]
    },
    {
      "cell_type": "code",
      "execution_count": null,
      "metadata": {
        "id": "cR7fHoeV4htz"
      },
      "outputs": [
        {
          "ename": "TypeError",
          "evalue": "'Series' object is not callable",
          "output_type": "error",
          "traceback": [
            "\u001b[31m---------------------------------------------------------------------------\u001b[39m",
            "\u001b[31mTypeError\u001b[39m                                 Traceback (most recent call last)",
            "\u001b[36mCell\u001b[39m\u001b[36m \u001b[39m\u001b[32mIn[5]\u001b[39m\u001b[32m, line 1\u001b[39m\n\u001b[32m----> \u001b[39m\u001b[32m1\u001b[39m \u001b[43mfarms\u001b[49m\u001b[43m.\u001b[49m\u001b[43mdtypes\u001b[49m\u001b[43m(\u001b[49m\u001b[43m)\u001b[49m\n",
            "\u001b[31mTypeError\u001b[39m: 'Series' object is not callable"
          ]
        }
      ],
      "source": [
        "farms.dtypes"
      ]
    },
    {
      "cell_type": "markdown",
      "metadata": {
        "id": "JIaO1uFr6sIC"
      },
      "source": [
        "3. Draw a scatter plot of the number of farms versus the year.\n"
      ]
    },
    {
      "cell_type": "code",
      "execution_count": 7,
      "metadata": {
        "id": "abjteDnL65EZ"
      },
      "outputs": [
        {
          "data": {
            "text/plain": [
              "<seaborn.axisgrid.FacetGrid at 0x178f8246900>"
            ]
          },
          "execution_count": 7,
          "metadata": {},
          "output_type": "execute_result"
        },
        {
          "data": {
            "image/png": "[encoded data removed]",
            "text/plain": [
              "<Figure size 500x500 with 1 Axes>"
            ]
          },
          "metadata": {},
          "output_type": "display_data"
        }
      ],
      "source": [
        "sns.relplot(data=farms, x='year', y='number_of_farms')"
      ]
    },
    {
      "cell_type": "markdown",
      "metadata": {
        "id": "uWG_J5Rjrmti"
      },
      "source": [
        "4. Is there a positive / negative relationship between year and number_of_farms?\n",
        "\n",
        "    $R = -0.9861066349492859$"
      ]
    },
    {
      "cell_type": "code",
      "execution_count": 8,
      "metadata": {
        "colab": {
          "base_uri": "https://localhost:8080/"
        },
        "id": "Az5IgPJ-E2Sa",
        "outputId": "864e59b6-4a8b-4a83-8e43-a3107dad4e43"
      },
      "outputs": [
        {
          "name": "stdout",
          "output_type": "stream",
          "text": [
            "R ≈ -0.9861\n",
            "R² ≈ 0.9724\n"
          ]
        }
      ],
      "source": [
        "# Python function numpy.corrcoef() - returns a matrix, like numpy.cov()\n",
        "cor = np.corrcoef(\n",
        "    farms.year,\n",
        "    farms.number_of_farms)[0][1]\n",
        "print(f\"R ≈ {cor:.4f}\")\n",
        "print(f\"R² ≈ {cor**2:.4f}\")\n"
      ]
    },
    {
      "cell_type": "markdown",
      "metadata": {
        "id": "lOwgojYJrpGm"
      },
      "source": [
        "6. Is there a strong relationship between year and 'number_of_farms'?\n",
        "\n",
        "    $R^2 = 0.9724062954910041$"
      ]
    },
    {
      "cell_type": "code",
      "execution_count": null,
      "metadata": {
        "colab": {
          "base_uri": "https://localhost:8080/"
        },
        "id": "F7lhH4yX-IPL",
        "outputId": "8994612c-50ff-45cf-ad67-b5a4435a94a4"
      },
      "outputs": [
        {
          "name": "stdout",
          "output_type": "stream",
          "text": [
            "R² = 0.9724062954910041\n"
          ]
        }
      ],
      "source": [
        "# R < 0 => dalend verband \n",
        "# |R| 0.98 => uitzonderlijk sterk verband\n",
        "# R² 0.0.97 => uitzonderlijk sterk verband\n",
        "# 97% van de variantie van de afhankelijk vernaderlijke wordt uitgelegd door de onafhankelijke veranderlijke"
      ]
    },
    {
      "cell_type": "markdown",
      "metadata": {
        "id": "owbmv1W3rrxm"
      },
      "source": [
        "7. Draw a scatter plot of the 'average_area_per_farm_(ha)' versus the year."
      ]
    },
    {
      "cell_type": "code",
      "execution_count": 9,
      "metadata": {
        "colab": {
          "base_uri": "https://localhost:8080/",
          "height": 388
        },
        "id": "lTfhqSDv8fcD",
        "outputId": "8cb49e73-da31-40c7-c066-8ade59665482"
      },
      "outputs": [
        {
          "data": {
            "text/plain": [
              "<seaborn.axisgrid.FacetGrid at 0x178f9da3b10>"
            ]
          },
          "execution_count": 9,
          "metadata": {},
          "output_type": "execute_result"
        },
        {
          "data": {
            "image/png": "[encoded data removed]",
            "text/plain": [
              "<Figure size 500x500 with 1 Axes>"
            ]
          },
          "metadata": {},
          "output_type": "display_data"
        }
      ],
      "source": [
        "sns.relplot(data=farms, x='year', y='average_area_per_farm_(ha)')"
      ]
    },
    {
      "cell_type": "markdown",
      "metadata": {
        "id": "Jm-xaPiKrvi1"
      },
      "source": [
        "8. What will be the 'average_area_per_farm_(ha)' in 2035?\n",
        "\n",
        "Average area in 2035 = 34.91987804878045"
      ]
    },
    {
      "cell_type": "code",
      "execution_count": null,
      "metadata": {
        "id": "_Gfuidwg5Igq"
      },
      "outputs": [],
      "source": [
        "sns.relplot(data=farms, x='year', y='average_area_per_farm_(ha)')"
      ]
    },
    {
      "cell_type": "code",
      "execution_count": 12,
      "metadata": {},
      "outputs": [
        {
          "name": "stdout",
          "output_type": "stream",
          "text": [
            "y = 0.5242334494773592 * x + -1031.8951916376452\n",
            "gemiddelde oppervlakte in 2035 = 34.919878048780674\n"
          ]
        }
      ],
      "source": [
        "x= farms.year\n",
        "y= farms['average_area_per_farm_(ha)']\n",
        "a, b = np.polyfit(x,y,1)\n",
        "print(f'y = {a} * x + {b}')\n",
        "print(f'gemiddelde oppervlakte in 2035 = {a * 2035 +b}')\n"
      ]
    },
    {
      "cell_type": "code",
      "execution_count": 17,
      "metadata": {},
      "outputs": [
        {
          "name": "stdout",
          "output_type": "stream",
          "text": [
            "Regression line: ŷ = -1031.8952 + 0.5242 x\n",
            "Gemiddelde oppervlakte in 2035 = [34.91987805]\n"
          ]
        }
      ],
      "source": [
        "from sklearn.linear_model import LinearRegression\n",
        "\n",
        "x= farms.year.values.reshape(-1,1)\n",
        "y= farms['average_area_per_farm_(ha)']\n",
        "\n",
        "model = LinearRegression().fit(x, y)\n",
        "\n",
        "print(f\"Regression line: ŷ = {model.intercept_:.4f} + {model.coef_[0]:.4f} x\")\n",
        "gemiidelde_oppervlakte_in_2035 = model.predict([[2035]])\n",
        "print(f\"Gemiddelde oppervlakte in 2035 = {gemiidelde_oppervlakte_in_2035}\")"
      ]
    },
    {
      "cell_type": "code",
      "execution_count": 20,
      "metadata": {},
      "outputs": [
        {
          "name": "stdout",
          "output_type": "stream",
          "text": [
            "634416.28\n"
          ]
        },
        {
          "data": {
            "text/html": [
              "<div>\n",
              "<style scoped>\n",
              "    .dataframe tbody tr th:only-of-type {\n",
              "        vertical-align: middle;\n",
              "    }\n",
              "\n",
              "    .dataframe tbody tr th {\n",
              "        vertical-align: top;\n",
              "    }\n",
              "\n",
              "    .dataframe thead th {\n",
              "        text-align: right;\n",
              "    }\n",
              "</style>\n",
              "<table border=\"1\" class=\"dataframe\">\n",
              "  <thead>\n",
              "    <tr style=\"text-align: right;\">\n",
              "      <th></th>\n",
              "      <th>year</th>\n",
              "      <th>number_of_farms</th>\n",
              "      <th>average_area_per_farm_(ha)</th>\n",
              "      <th>totale_area</th>\n",
              "      <th>relative_to_1980</th>\n",
              "    </tr>\n",
              "  </thead>\n",
              "  <tbody>\n",
              "    <tr>\n",
              "      <th>0</th>\n",
              "      <td>1980</td>\n",
              "      <td>75706</td>\n",
              "      <td>8.38</td>\n",
              "      <td>634416.28</td>\n",
              "      <td>1.000000</td>\n",
              "    </tr>\n",
              "    <tr>\n",
              "      <th>1</th>\n",
              "      <td>1981</td>\n",
              "      <td>73292</td>\n",
              "      <td>8.58</td>\n",
              "      <td>628845.36</td>\n",
              "      <td>0.991219</td>\n",
              "    </tr>\n",
              "    <tr>\n",
              "      <th>2</th>\n",
              "      <td>1982</td>\n",
              "      <td>71255</td>\n",
              "      <td>8.79</td>\n",
              "      <td>626331.45</td>\n",
              "      <td>0.987256</td>\n",
              "    </tr>\n",
              "    <tr>\n",
              "      <th>3</th>\n",
              "      <td>1983</td>\n",
              "      <td>69807</td>\n",
              "      <td>8.94</td>\n",
              "      <td>624074.58</td>\n",
              "      <td>0.983699</td>\n",
              "    </tr>\n",
              "    <tr>\n",
              "      <th>4</th>\n",
              "      <td>1984</td>\n",
              "      <td>68083</td>\n",
              "      <td>9.15</td>\n",
              "      <td>622959.45</td>\n",
              "      <td>0.981941</td>\n",
              "    </tr>\n",
              "  </tbody>\n",
              "</table>\n",
              "</div>"
            ],
            "text/plain": [
              "   year  number_of_farms  average_area_per_farm_(ha)  totale_area  \\\n",
              "0  1980            75706                        8.38    634416.28   \n",
              "1  1981            73292                        8.58    628845.36   \n",
              "2  1982            71255                        8.79    626331.45   \n",
              "3  1983            69807                        8.94    624074.58   \n",
              "4  1984            68083                        9.15    622959.45   \n",
              "\n",
              "   relative_to_1980  \n",
              "0          1.000000  \n",
              "1          0.991219  \n",
              "2          0.987256  \n",
              "3          0.983699  \n",
              "4          0.981941  "
            ]
          },
          "execution_count": 20,
          "metadata": {},
          "output_type": "execute_result"
        }
      ],
      "source": [
        "farms['totale_area'] = farms['number_of_farms']*farms['average_area_per_farm_(ha)']\n",
        "farms.head()\n",
        "area_1980 = farms.iloc[0,3]\n",
        "print(area_1980)\n",
        "farms['relative_to_1980']= farms['totale_area'] / area_1980\n",
        "farms.head()"
      ]
    },
    {
      "cell_type": "code",
      "execution_count": 24,
      "metadata": {},
      "outputs": [
        {
          "data": {
            "text/plain": [
              "[(0.0, 1.1)]"
            ]
          },
          "execution_count": 24,
          "metadata": {},
          "output_type": "execute_result"
        },
        {
          "data": {
            "image/png": "[encoded data removed]",
            "text/plain": [
              "<Figure size 640x480 with 1 Axes>"
            ]
          },
          "metadata": {},
          "output_type": "display_data"
        }
      ],
      "source": [
        "g = sns.regplot(data=farms, x='year', y='relative_to_1980')\n",
        "g.set(ylim=[0,1.1])"
      ]
    },
    {
      "cell_type": "markdown",
      "metadata": {
        "id": "Hlb0d9w36tdJ"
      },
      "source": [
        "8. Calculate the total agricultural area for each year.   \n",
        "Calculate for each year the change of the total area relative to 1980.  \n",
        "Make a plot.\n",
        "\n",
        "![image.png](data:image/png;base64,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)\n"
      ]
    },
    {
      "cell_type": "code",
      "execution_count": null,
      "metadata": {
        "id": "7CjVnEhQBjVj"
      },
      "outputs": [],
      "source": []
    }
  ],
  "metadata": {
    "colab": {
      "provenance": []
    },
    "kernelspec": {
      "display_name": "Python 3",
      "name": "python3"
    },
    "language_info": {
      "codemirror_mode": {
        "name": "ipython",
        "version": 3
      },
      "file_extension": ".py",
      "mimetype": "text/x-python",
      "name": "python",
      "nbconvert_exporter": "python",
      "pygments_lexer": "ipython3",
      "version": "3.13.3"
    },
    "orig_nbformat": 4
  },
  "nbformat": 4,
  "nbformat_minor": 0
}
